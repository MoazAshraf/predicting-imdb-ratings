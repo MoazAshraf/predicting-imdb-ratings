{
  "nbformat": 4,
  "nbformat_minor": 0,
  "metadata": {
    "colab": {
      "name": "predicting_imdb_ratings.ipynb",
      "provenance": [],
      "collapsed_sections": [],
      "authorship_tag": "ABX9TyNZ3hMoF5htggrns9KRfGzG",
      "include_colab_link": true
    },
    "kernelspec": {
      "name": "python3",
      "display_name": "Python 3"
    }
  },
  "cells": [
    {
      "cell_type": "markdown",
      "metadata": {
        "id": "view-in-github",
        "colab_type": "text"
      },
      "source": [
        "<a href=\"https://colab.research.google.com/github/MoazAshraf/predicting_imdb_ratings/blob/master/predicting_imdb_ratings.ipynb\" target=\"_parent\"><img src=\"https://colab.research.google.com/assets/colab-badge.svg\" alt=\"Open In Colab\"/></a>"
      ]
    },
    {
      "cell_type": "markdown",
      "metadata": {
        "id": "n3qp5tvfegUd",
        "colab_type": "text"
      },
      "source": [
        "#Predicting IMDb Ratings for movies, TV shows and games\n",
        "This solution can be used to develop a movie recommendation system in which movies with higher ratings would have a higher chance of being recommended.\n",
        "\n",
        "This is a supervised regression problem. [This](https://www.kaggle.com/orgesleka/imdbmovies) public dataset will be used for training and evaluation.\n",
        "\n",
        "To measure the performance of the system, the root mean squared error will be used as the performance metric. The baseline will be the standard deviation of the movie ratings in the training set as it measures the performance of random guessing.\n"
      ]
    },
    {
      "cell_type": "markdown",
      "metadata": {
        "id": "BBA7w2XejewU",
        "colab_type": "text"
      },
      "source": [
        "##Get the Data"
      ]
    },
    {
      "cell_type": "code",
      "metadata": {
        "id": "1rjahcDpbm5x",
        "colab_type": "code",
        "colab": {
          "resources": {
            "http://localhost:8080/nbextensions/google.colab/files.js": {
              "data": "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",
              "ok": true,
              "headers": [
                [
                  "content-type",
                  "application/javascript"
                ]
              ],
              "status": 200,
              "status_text": ""
            }
          },
          "base_uri": "https://localhost:8080/",
          "height": 74
        },
        "outputId": "894e2141-34bf-4bd0-d36d-c3df85f5b3e7"
      },
      "source": [
        "import os, stat\n",
        "from google.colab import files\n",
        "\n",
        "# upload kaggle.json file\n",
        "files.upload()  # Upload your kaggle.json file when prompted here\n",
        "\n",
        "# create the directory\n",
        "KAGGLE_DIR = '/root/.kaggle'\n",
        "KAGGLE_FILE_NAME = 'kaggle.json'\n",
        "if not os.path.isdir(KAGGLE_DIR):\n",
        "    os.makedirs(KAGGLE_DIR)\n",
        "kaggle_file_path = os.path.join(KAGGLE_DIR, KAGGLE_FILE_NAME)\n",
        "\n",
        "# move kaggle file to kaggle directory and set its permissions to be read and written by user only\n",
        "os.rename(KAGGLE_FILE_NAME, kaggle_file_path)\n",
        "os.chmod(kaggle_file_path, stat.S_IREAD | stat.S_IWRITE)"
      ],
      "execution_count": 16,
      "outputs": [
        {
          "output_type": "display_data",
          "data": {
            "text/html": [
              "\n",
              "     <input type=\"file\" id=\"files-30fc3b28-9930-4d47-853d-3fdb302e5214\" name=\"files[]\" multiple disabled />\n",
              "     <output id=\"result-30fc3b28-9930-4d47-853d-3fdb302e5214\">\n",
              "      Upload widget is only available when the cell has been executed in the\n",
              "      current browser session. Please rerun this cell to enable.\n",
              "      </output>\n",
              "      <script src=\"/nbextensions/google.colab/files.js\"></script> "
            ],
            "text/plain": [
              "<IPython.core.display.HTML object>"
            ]
          },
          "metadata": {
            "tags": []
          }
        },
        {
          "output_type": "stream",
          "text": [
            "Saving kaggle.json to kaggle.json\n"
          ],
          "name": "stdout"
        }
      ]
    },
    {
      "cell_type": "code",
      "metadata": {
        "id": "yplFgHBecMXx",
        "colab_type": "code",
        "colab": {
          "base_uri": "https://localhost:8080/",
          "height": 34
        },
        "outputId": "56dbf1e2-bc52-4e7a-c988-dbc04e2b5e1b"
      },
      "source": [
        "# download the dataset\n",
        "!kaggle datasets download -d orgesleka/imdbmovies"
      ],
      "execution_count": 17,
      "outputs": [
        {
          "output_type": "stream",
          "text": [
            "imdbmovies.zip: Skipping, found more recently modified local copy (use --force to force download)\n"
          ],
          "name": "stdout"
        }
      ]
    },
    {
      "cell_type": "code",
      "metadata": {
        "id": "e3A9YW23cSx-",
        "colab_type": "code",
        "colab": {
          "base_uri": "https://localhost:8080/",
          "height": 67
        },
        "outputId": "be6d10b4-6ca5-4ed1-efa1-f8c3ff210440"
      },
      "source": [
        "# unzip the data\n",
        "!unzip imdbmovies.zip"
      ],
      "execution_count": 18,
      "outputs": [
        {
          "output_type": "stream",
          "text": [
            "Archive:  imdbmovies.zip\n",
            "replace imdb.csv? [y]es, [n]o, [A]ll, [N]one, [r]ename: y\n",
            "  inflating: imdb.csv                \n"
          ],
          "name": "stdout"
        }
      ]
    },
    {
      "cell_type": "code",
      "metadata": {
        "id": "TrI_QKA2cY5c",
        "colab_type": "code",
        "colab": {}
      },
      "source": [
        "import pandas as pd\n",
        "\n",
        "# read the data\n",
        "imdb_data = pd.read_csv('imdb.csv', escapechar='\\\\')"
      ],
      "execution_count": 0,
      "outputs": []
    },
    {
      "cell_type": "code",
      "metadata": {
        "id": "RQcQ-CQOcgz3",
        "colab_type": "code",
        "colab": {
          "base_uri": "https://localhost:8080/",
          "height": 874
        },
        "outputId": "75fe36a3-29b6-43ab-b25b-446ffdb14d7d"
      },
      "source": [
        "imdb_data.info()"
      ],
      "execution_count": 20,
      "outputs": [
        {
          "output_type": "stream",
          "text": [
            "<class 'pandas.core.frame.DataFrame'>\n",
            "RangeIndex: 14761 entries, 0 to 14760\n",
            "Data columns (total 44 columns):\n",
            " #   Column            Non-Null Count  Dtype  \n",
            "---  ------            --------------  -----  \n",
            " 0   fn                14761 non-null  object \n",
            " 1   tid               14761 non-null  object \n",
            " 2   title             14761 non-null  object \n",
            " 3   wordsInTitle      14748 non-null  object \n",
            " 4   url               14761 non-null  object \n",
            " 5   imdbRating        13551 non-null  float64\n",
            " 6   ratingCount       13551 non-null  float64\n",
            " 7   duration          13745 non-null  float64\n",
            " 8   year              14731 non-null  float64\n",
            " 9   type              14761 non-null  object \n",
            " 10  nrOfWins          14761 non-null  int64  \n",
            " 11  nrOfNominations   14761 non-null  int64  \n",
            " 12  nrOfPhotos        14761 non-null  int64  \n",
            " 13  nrOfNewsArticles  14761 non-null  int64  \n",
            " 14  nrOfUserReviews   14761 non-null  int64  \n",
            " 15  nrOfGenre         14761 non-null  int64  \n",
            " 16  Action            14761 non-null  int64  \n",
            " 17  Adult             14761 non-null  int64  \n",
            " 18  Adventure         14761 non-null  int64  \n",
            " 19  Animation         14761 non-null  int64  \n",
            " 20  Biography         14761 non-null  int64  \n",
            " 21  Comedy            14761 non-null  int64  \n",
            " 22  Crime             14761 non-null  int64  \n",
            " 23  Documentary       14761 non-null  int64  \n",
            " 24  Drama             14761 non-null  int64  \n",
            " 25  Family            14761 non-null  int64  \n",
            " 26  Fantasy           14761 non-null  int64  \n",
            " 27  FilmNoir          14761 non-null  int64  \n",
            " 28  GameShow          14761 non-null  int64  \n",
            " 29  History           14761 non-null  int64  \n",
            " 30  Horror            14761 non-null  int64  \n",
            " 31  Music             14761 non-null  int64  \n",
            " 32  Musical           14761 non-null  int64  \n",
            " 33  Mystery           14761 non-null  int64  \n",
            " 34  News              14761 non-null  int64  \n",
            " 35  RealityTV         14761 non-null  int64  \n",
            " 36  Romance           14761 non-null  int64  \n",
            " 37  SciFi             14761 non-null  int64  \n",
            " 38  Short             14761 non-null  int64  \n",
            " 39  Sport             14761 non-null  int64  \n",
            " 40  TalkShow          14761 non-null  int64  \n",
            " 41  Thriller          14761 non-null  int64  \n",
            " 42  War               14761 non-null  int64  \n",
            " 43  Western           14761 non-null  int64  \n",
            "dtypes: float64(4), int64(34), object(6)\n",
            "memory usage: 5.0+ MB\n"
          ],
          "name": "stdout"
        }
      ]
    },
    {
      "cell_type": "code",
      "metadata": {
        "id": "-vKnGyAekAjn",
        "colab_type": "code",
        "colab": {}
      },
      "source": [
        "# remove records with missing imdb rating\n",
        "imdb_data.dropna(subset=['imdbRating'], inplace=True)"
      ],
      "execution_count": 0,
      "outputs": []
    },
    {
      "cell_type": "code",
      "metadata": {
        "id": "A5NrkJRTkjxo",
        "colab_type": "code",
        "colab": {
          "base_uri": "https://localhost:8080/",
          "height": 34
        },
        "outputId": "44b5849b-1610-4938-eef5-facfd2de4224"
      },
      "source": [
        "imdb_data.shape[0]"
      ],
      "execution_count": 22,
      "outputs": [
        {
          "output_type": "execute_result",
          "data": {
            "text/plain": [
              "13551"
            ]
          },
          "metadata": {
            "tags": []
          },
          "execution_count": 22
        }
      ]
    },
    {
      "cell_type": "code",
      "metadata": {
        "id": "T7qH_tWwlFzS",
        "colab_type": "code",
        "colab": {
          "base_uri": "https://localhost:8080/",
          "height": 304
        },
        "outputId": "539008ef-9f35-49e0-e092-8bca2ac2eb1a"
      },
      "source": [
        "imdb_data.describe()"
      ],
      "execution_count": 23,
      "outputs": [
        {
          "output_type": "execute_result",
          "data": {
            "text/html": [
              "<div>\n",
              "<style scoped>\n",
              "    .dataframe tbody tr th:only-of-type {\n",
              "        vertical-align: middle;\n",
              "    }\n",
              "\n",
              "    .dataframe tbody tr th {\n",
              "        vertical-align: top;\n",
              "    }\n",
              "\n",
              "    .dataframe thead th {\n",
              "        text-align: right;\n",
              "    }\n",
              "</style>\n",
              "<table border=\"1\" class=\"dataframe\">\n",
              "  <thead>\n",
              "    <tr style=\"text-align: right;\">\n",
              "      <th></th>\n",
              "      <th>imdbRating</th>\n",
              "      <th>ratingCount</th>\n",
              "      <th>duration</th>\n",
              "      <th>year</th>\n",
              "      <th>nrOfWins</th>\n",
              "      <th>nrOfNominations</th>\n",
              "      <th>nrOfPhotos</th>\n",
              "      <th>nrOfNewsArticles</th>\n",
              "      <th>nrOfUserReviews</th>\n",
              "      <th>nrOfGenre</th>\n",
              "      <th>Action</th>\n",
              "      <th>Adult</th>\n",
              "      <th>Adventure</th>\n",
              "      <th>Animation</th>\n",
              "      <th>Biography</th>\n",
              "      <th>Comedy</th>\n",
              "      <th>Crime</th>\n",
              "      <th>Documentary</th>\n",
              "      <th>Drama</th>\n",
              "      <th>Family</th>\n",
              "      <th>Fantasy</th>\n",
              "      <th>FilmNoir</th>\n",
              "      <th>GameShow</th>\n",
              "      <th>History</th>\n",
              "      <th>Horror</th>\n",
              "      <th>Music</th>\n",
              "      <th>Musical</th>\n",
              "      <th>Mystery</th>\n",
              "      <th>News</th>\n",
              "      <th>RealityTV</th>\n",
              "      <th>Romance</th>\n",
              "      <th>SciFi</th>\n",
              "      <th>Short</th>\n",
              "      <th>Sport</th>\n",
              "      <th>TalkShow</th>\n",
              "      <th>Thriller</th>\n",
              "      <th>War</th>\n",
              "      <th>Western</th>\n",
              "    </tr>\n",
              "  </thead>\n",
              "  <tbody>\n",
              "    <tr>\n",
              "      <th>count</th>\n",
              "      <td>13551.000000</td>\n",
              "      <td>1.355100e+04</td>\n",
              "      <td>12793.000000</td>\n",
              "      <td>13551.000000</td>\n",
              "      <td>13551.000000</td>\n",
              "      <td>13551.000000</td>\n",
              "      <td>13551.000000</td>\n",
              "      <td>13551.000000</td>\n",
              "      <td>13551.000000</td>\n",
              "      <td>13551.000000</td>\n",
              "      <td>13551.000000</td>\n",
              "      <td>13551.000000</td>\n",
              "      <td>13551.000000</td>\n",
              "      <td>13551.000000</td>\n",
              "      <td>13551.000000</td>\n",
              "      <td>13551.000000</td>\n",
              "      <td>13551.000000</td>\n",
              "      <td>13551.000000</td>\n",
              "      <td>13551.000000</td>\n",
              "      <td>13551.000000</td>\n",
              "      <td>13551.000000</td>\n",
              "      <td>13551.000000</td>\n",
              "      <td>13551.000000</td>\n",
              "      <td>13551.000000</td>\n",
              "      <td>13551.000000</td>\n",
              "      <td>13551.000000</td>\n",
              "      <td>13551.00000</td>\n",
              "      <td>13551.000000</td>\n",
              "      <td>13551.000000</td>\n",
              "      <td>13551.000000</td>\n",
              "      <td>13551.000000</td>\n",
              "      <td>13551.000000</td>\n",
              "      <td>13551.000000</td>\n",
              "      <td>13551.000000</td>\n",
              "      <td>13551.000000</td>\n",
              "      <td>13551.000000</td>\n",
              "      <td>13551.000000</td>\n",
              "      <td>13551.000000</td>\n",
              "    </tr>\n",
              "    <tr>\n",
              "      <th>mean</th>\n",
              "      <td>6.865707</td>\n",
              "      <td>2.642480e+04</td>\n",
              "      <td>5626.405378</td>\n",
              "      <td>1989.476496</td>\n",
              "      <td>3.365951</td>\n",
              "      <td>4.914545</td>\n",
              "      <td>25.635377</td>\n",
              "      <td>269.551989</td>\n",
              "      <td>112.456719</td>\n",
              "      <td>2.295107</td>\n",
              "      <td>0.165301</td>\n",
              "      <td>0.001328</td>\n",
              "      <td>0.132610</td>\n",
              "      <td>0.073426</td>\n",
              "      <td>0.044868</td>\n",
              "      <td>0.362630</td>\n",
              "      <td>0.148107</td>\n",
              "      <td>0.075640</td>\n",
              "      <td>0.447495</td>\n",
              "      <td>0.076231</td>\n",
              "      <td>0.061324</td>\n",
              "      <td>0.014021</td>\n",
              "      <td>0.006937</td>\n",
              "      <td>0.041252</td>\n",
              "      <td>0.074312</td>\n",
              "      <td>0.032544</td>\n",
              "      <td>0.02723</td>\n",
              "      <td>0.071877</td>\n",
              "      <td>0.003985</td>\n",
              "      <td>0.006937</td>\n",
              "      <td>0.137702</td>\n",
              "      <td>0.070770</td>\n",
              "      <td>0.034167</td>\n",
              "      <td>0.016899</td>\n",
              "      <td>0.012471</td>\n",
              "      <td>0.096303</td>\n",
              "      <td>0.034831</td>\n",
              "      <td>0.023910</td>\n",
              "    </tr>\n",
              "    <tr>\n",
              "      <th>std</th>\n",
              "      <td>1.119515</td>\n",
              "      <td>6.506456e+04</td>\n",
              "      <td>2702.125762</td>\n",
              "      <td>22.302556</td>\n",
              "      <td>9.581572</td>\n",
              "      <td>16.831365</td>\n",
              "      <td>67.742465</td>\n",
              "      <td>1092.792558</td>\n",
              "      <td>236.940988</td>\n",
              "      <td>0.794300</td>\n",
              "      <td>0.371466</td>\n",
              "      <td>0.036423</td>\n",
              "      <td>0.339165</td>\n",
              "      <td>0.260845</td>\n",
              "      <td>0.207021</td>\n",
              "      <td>0.480777</td>\n",
              "      <td>0.355219</td>\n",
              "      <td>0.264431</td>\n",
              "      <td>0.497254</td>\n",
              "      <td>0.265376</td>\n",
              "      <td>0.239932</td>\n",
              "      <td>0.117582</td>\n",
              "      <td>0.083001</td>\n",
              "      <td>0.198879</td>\n",
              "      <td>0.262287</td>\n",
              "      <td>0.177446</td>\n",
              "      <td>0.16276</td>\n",
              "      <td>0.258293</td>\n",
              "      <td>0.063003</td>\n",
              "      <td>0.083001</td>\n",
              "      <td>0.344600</td>\n",
              "      <td>0.256449</td>\n",
              "      <td>0.181665</td>\n",
              "      <td>0.128898</td>\n",
              "      <td>0.110981</td>\n",
              "      <td>0.295017</td>\n",
              "      <td>0.183359</td>\n",
              "      <td>0.152773</td>\n",
              "    </tr>\n",
              "    <tr>\n",
              "      <th>min</th>\n",
              "      <td>1.000000</td>\n",
              "      <td>5.000000e+00</td>\n",
              "      <td>2.000000</td>\n",
              "      <td>1888.000000</td>\n",
              "      <td>0.000000</td>\n",
              "      <td>0.000000</td>\n",
              "      <td>0.000000</td>\n",
              "      <td>0.000000</td>\n",
              "      <td>0.000000</td>\n",
              "      <td>0.000000</td>\n",
              "      <td>0.000000</td>\n",
              "      <td>0.000000</td>\n",
              "      <td>0.000000</td>\n",
              "      <td>0.000000</td>\n",
              "      <td>0.000000</td>\n",
              "      <td>0.000000</td>\n",
              "      <td>0.000000</td>\n",
              "      <td>0.000000</td>\n",
              "      <td>0.000000</td>\n",
              "      <td>0.000000</td>\n",
              "      <td>0.000000</td>\n",
              "      <td>0.000000</td>\n",
              "      <td>0.000000</td>\n",
              "      <td>0.000000</td>\n",
              "      <td>0.000000</td>\n",
              "      <td>0.000000</td>\n",
              "      <td>0.00000</td>\n",
              "      <td>0.000000</td>\n",
              "      <td>0.000000</td>\n",
              "      <td>0.000000</td>\n",
              "      <td>0.000000</td>\n",
              "      <td>0.000000</td>\n",
              "      <td>0.000000</td>\n",
              "      <td>0.000000</td>\n",
              "      <td>0.000000</td>\n",
              "      <td>0.000000</td>\n",
              "      <td>0.000000</td>\n",
              "      <td>0.000000</td>\n",
              "    </tr>\n",
              "    <tr>\n",
              "      <th>25%</th>\n",
              "      <td>6.300000</td>\n",
              "      <td>6.025000e+02</td>\n",
              "      <td>4680.000000</td>\n",
              "      <td>1978.000000</td>\n",
              "      <td>0.000000</td>\n",
              "      <td>0.000000</td>\n",
              "      <td>0.000000</td>\n",
              "      <td>0.000000</td>\n",
              "      <td>8.000000</td>\n",
              "      <td>2.000000</td>\n",
              "      <td>0.000000</td>\n",
              "      <td>0.000000</td>\n",
              "      <td>0.000000</td>\n",
              "      <td>0.000000</td>\n",
              "      <td>0.000000</td>\n",
              "      <td>0.000000</td>\n",
              "      <td>0.000000</td>\n",
              "      <td>0.000000</td>\n",
              "      <td>0.000000</td>\n",
              "      <td>0.000000</td>\n",
              "      <td>0.000000</td>\n",
              "      <td>0.000000</td>\n",
              "      <td>0.000000</td>\n",
              "      <td>0.000000</td>\n",
              "      <td>0.000000</td>\n",
              "      <td>0.000000</td>\n",
              "      <td>0.00000</td>\n",
              "      <td>0.000000</td>\n",
              "      <td>0.000000</td>\n",
              "      <td>0.000000</td>\n",
              "      <td>0.000000</td>\n",
              "      <td>0.000000</td>\n",
              "      <td>0.000000</td>\n",
              "      <td>0.000000</td>\n",
              "      <td>0.000000</td>\n",
              "      <td>0.000000</td>\n",
              "      <td>0.000000</td>\n",
              "      <td>0.000000</td>\n",
              "    </tr>\n",
              "    <tr>\n",
              "      <th>50%</th>\n",
              "      <td>7.000000</td>\n",
              "      <td>3.977000e+03</td>\n",
              "      <td>5760.000000</td>\n",
              "      <td>1998.000000</td>\n",
              "      <td>0.000000</td>\n",
              "      <td>0.000000</td>\n",
              "      <td>9.000000</td>\n",
              "      <td>13.000000</td>\n",
              "      <td>37.000000</td>\n",
              "      <td>2.000000</td>\n",
              "      <td>0.000000</td>\n",
              "      <td>0.000000</td>\n",
              "      <td>0.000000</td>\n",
              "      <td>0.000000</td>\n",
              "      <td>0.000000</td>\n",
              "      <td>0.000000</td>\n",
              "      <td>0.000000</td>\n",
              "      <td>0.000000</td>\n",
              "      <td>0.000000</td>\n",
              "      <td>0.000000</td>\n",
              "      <td>0.000000</td>\n",
              "      <td>0.000000</td>\n",
              "      <td>0.000000</td>\n",
              "      <td>0.000000</td>\n",
              "      <td>0.000000</td>\n",
              "      <td>0.000000</td>\n",
              "      <td>0.00000</td>\n",
              "      <td>0.000000</td>\n",
              "      <td>0.000000</td>\n",
              "      <td>0.000000</td>\n",
              "      <td>0.000000</td>\n",
              "      <td>0.000000</td>\n",
              "      <td>0.000000</td>\n",
              "      <td>0.000000</td>\n",
              "      <td>0.000000</td>\n",
              "      <td>0.000000</td>\n",
              "      <td>0.000000</td>\n",
              "      <td>0.000000</td>\n",
              "    </tr>\n",
              "    <tr>\n",
              "      <th>75%</th>\n",
              "      <td>7.600000</td>\n",
              "      <td>2.085850e+04</td>\n",
              "      <td>6720.000000</td>\n",
              "      <td>2006.000000</td>\n",
              "      <td>3.000000</td>\n",
              "      <td>4.000000</td>\n",
              "      <td>29.000000</td>\n",
              "      <td>120.500000</td>\n",
              "      <td>114.000000</td>\n",
              "      <td>3.000000</td>\n",
              "      <td>0.000000</td>\n",
              "      <td>0.000000</td>\n",
              "      <td>0.000000</td>\n",
              "      <td>0.000000</td>\n",
              "      <td>0.000000</td>\n",
              "      <td>1.000000</td>\n",
              "      <td>0.000000</td>\n",
              "      <td>0.000000</td>\n",
              "      <td>1.000000</td>\n",
              "      <td>0.000000</td>\n",
              "      <td>0.000000</td>\n",
              "      <td>0.000000</td>\n",
              "      <td>0.000000</td>\n",
              "      <td>0.000000</td>\n",
              "      <td>0.000000</td>\n",
              "      <td>0.000000</td>\n",
              "      <td>0.00000</td>\n",
              "      <td>0.000000</td>\n",
              "      <td>0.000000</td>\n",
              "      <td>0.000000</td>\n",
              "      <td>0.000000</td>\n",
              "      <td>0.000000</td>\n",
              "      <td>0.000000</td>\n",
              "      <td>0.000000</td>\n",
              "      <td>0.000000</td>\n",
              "      <td>0.000000</td>\n",
              "      <td>0.000000</td>\n",
              "      <td>0.000000</td>\n",
              "    </tr>\n",
              "    <tr>\n",
              "      <th>max</th>\n",
              "      <td>9.900000</td>\n",
              "      <td>1.183395e+06</td>\n",
              "      <td>68400.000000</td>\n",
              "      <td>2014.000000</td>\n",
              "      <td>226.000000</td>\n",
              "      <td>542.000000</td>\n",
              "      <td>2810.000000</td>\n",
              "      <td>32345.000000</td>\n",
              "      <td>4928.000000</td>\n",
              "      <td>3.000000</td>\n",
              "      <td>1.000000</td>\n",
              "      <td>1.000000</td>\n",
              "      <td>1.000000</td>\n",
              "      <td>1.000000</td>\n",
              "      <td>1.000000</td>\n",
              "      <td>1.000000</td>\n",
              "      <td>1.000000</td>\n",
              "      <td>1.000000</td>\n",
              "      <td>1.000000</td>\n",
              "      <td>1.000000</td>\n",
              "      <td>1.000000</td>\n",
              "      <td>1.000000</td>\n",
              "      <td>1.000000</td>\n",
              "      <td>1.000000</td>\n",
              "      <td>1.000000</td>\n",
              "      <td>1.000000</td>\n",
              "      <td>1.00000</td>\n",
              "      <td>1.000000</td>\n",
              "      <td>1.000000</td>\n",
              "      <td>1.000000</td>\n",
              "      <td>1.000000</td>\n",
              "      <td>1.000000</td>\n",
              "      <td>1.000000</td>\n",
              "      <td>1.000000</td>\n",
              "      <td>1.000000</td>\n",
              "      <td>1.000000</td>\n",
              "      <td>1.000000</td>\n",
              "      <td>1.000000</td>\n",
              "    </tr>\n",
              "  </tbody>\n",
              "</table>\n",
              "</div>"
            ],
            "text/plain": [
              "         imdbRating   ratingCount  ...           War       Western\n",
              "count  13551.000000  1.355100e+04  ...  13551.000000  13551.000000\n",
              "mean       6.865707  2.642480e+04  ...      0.034831      0.023910\n",
              "std        1.119515  6.506456e+04  ...      0.183359      0.152773\n",
              "min        1.000000  5.000000e+00  ...      0.000000      0.000000\n",
              "25%        6.300000  6.025000e+02  ...      0.000000      0.000000\n",
              "50%        7.000000  3.977000e+03  ...      0.000000      0.000000\n",
              "75%        7.600000  2.085850e+04  ...      0.000000      0.000000\n",
              "max        9.900000  1.183395e+06  ...      1.000000      1.000000\n",
              "\n",
              "[8 rows x 38 columns]"
            ]
          },
          "metadata": {
            "tags": []
          },
          "execution_count": 23
        }
      ]
    },
    {
      "cell_type": "code",
      "metadata": {
        "id": "tSPcLpGwmAvQ",
        "colab_type": "code",
        "colab": {}
      },
      "source": [
        "from sklearn.model_selection import train_test_split\n",
        "\n",
        "# split the data into a training set and a test set with stratifying to keep the distributions similar\n",
        "imdb_data['imdbRating_cat'] = pd.cut(imdb_data['imdbRating'], bins=10, labels=range(10))\n",
        "training_set, test_set = train_test_split(imdb_data, test_size=0.2, stratify=imdb_data['imdbRating_cat'])"
      ],
      "execution_count": 0,
      "outputs": []
    },
    {
      "cell_type": "code",
      "metadata": {
        "id": "1G4Sz3sgODIy",
        "colab_type": "code",
        "colab": {
          "base_uri": "https://localhost:8080/",
          "height": 34
        },
        "outputId": "8c2115e6-3bbd-4fee-adc8-8a527719cf7e"
      },
      "source": [
        "print(training_set.shape, test_set.shape)"
      ],
      "execution_count": 25,
      "outputs": [
        {
          "output_type": "stream",
          "text": [
            "(10840, 45) (2711, 45)\n"
          ],
          "name": "stdout"
        }
      ]
    },
    {
      "cell_type": "code",
      "metadata": {
        "id": "Nx2GvzR0OwAj",
        "colab_type": "code",
        "colab": {
          "base_uri": "https://localhost:8080/",
          "height": 585
        },
        "outputId": "1903e5ed-1e09-4c0b-c9ec-fef9a527c32b"
      },
      "source": [
        "import matplotlib.pyplot as plt\n",
        "\n",
        "plt.style.use('ggplot')\n",
        "fig = plt.figure(figsize=(6, 8))\n",
        "\n",
        "plt.subplot(2, 1, 1)\n",
        "plt.title('Training Set')\n",
        "training_set['imdbRating_cat'].hist()\n",
        "plt.xlabel('Rating Buckets')\n",
        "\n",
        "plt.subplot(2, 1, 2)\n",
        "plt.title('Test Set')\n",
        "test_set['imdbRating_cat'].hist()\n",
        "plt.xlabel('Rating Buckets')\n",
        "\n",
        "fig.tight_layout()\n",
        "plt.show()"
      ],
      "execution_count": 26,
      "outputs": [
        {
          "output_type": "display_data",
          "data": {
            "image/png": "[encoded data removed]",
            "text/plain": [
              "<Figure size 432x576 with 2 Axes>"
            ]
          },
          "metadata": {
            "tags": []
          }
        }
      ]
    },
    {
      "cell_type": "markdown",
      "metadata": {
        "id": "hEkPAGxrzH4c",
        "colab_type": "text"
      },
      "source": [
        "##Explore the Data"
      ]
    },
    {
      "cell_type": "code",
      "metadata": {
        "id": "1HRTfoOYz9QJ",
        "colab_type": "code",
        "colab": {}
      },
      "source": [
        "# copy the training set for exploration\n",
        "imdb_train = training_set.copy()"
      ],
      "execution_count": 0,
      "outputs": []
    },
    {
      "cell_type": "code",
      "metadata": {
        "id": "gYiZCn7T0ZK-",
        "colab_type": "code",
        "colab": {
          "base_uri": "https://localhost:8080/",
          "height": 672
        },
        "outputId": "a8e657dd-f8cf-42d3-d09f-a1ba7bd4dcdc"
      },
      "source": [
        "# find featuers that correlate with the IMDb rating\n",
        "imdb_train.corr()['imdbRating'].sort_values(ascending=False)"
      ],
      "execution_count": 34,
      "outputs": [
        {
          "output_type": "execute_result",
          "data": {
            "text/plain": [
              "imdbRating          1.000000\n",
              "nrOfWins            0.190119\n",
              "Drama               0.179432\n",
              "ratingCount         0.153482\n",
              "nrOfNominations     0.126994\n",
              "History             0.086707\n",
              "Animation           0.080848\n",
              "nrOfUserReviews     0.078527\n",
              "nrOfPhotos          0.075739\n",
              "nrOfNewsArticles    0.074163\n",
              "Biography           0.071226\n",
              "War                 0.070843\n",
              "Documentary         0.059561\n",
              "FilmNoir            0.045012\n",
              "Mystery             0.032309\n",
              "Crime               0.029292\n",
              "Music               0.028506\n",
              "GameShow            0.012306\n",
              "duration            0.004577\n",
              "Musical             0.003769\n",
              "Romance             0.002889\n",
              "Western             0.001708\n",
              "nrOfGenre          -0.003384\n",
              "Sport              -0.009338\n",
              "Adult              -0.016030\n",
              "Short              -0.016097\n",
              "TalkShow           -0.019421\n",
              "Comedy             -0.023400\n",
              "RealityTV          -0.029699\n",
              "Adventure          -0.049375\n",
              "Family             -0.055734\n",
              "News               -0.056566\n",
              "Fantasy            -0.069869\n",
              "Thriller           -0.072198\n",
              "SciFi              -0.094718\n",
              "Action             -0.098791\n",
              "year               -0.112264\n",
              "Horror             -0.193813\n",
              "Name: imdbRating, dtype: float64"
            ]
          },
          "metadata": {
            "tags": []
          },
          "execution_count": 34
        }
      ]
    },
    {
      "cell_type": "code",
      "metadata": {
        "id": "GRhUrbWc2ox4",
        "colab_type": "code",
        "colab": {
          "base_uri": "https://localhost:8080/",
          "height": 529
        },
        "outputId": "48af4f98-ae9e-412d-d09a-b71d8736f7e0"
      },
      "source": [
        "from pandas.plotting import scatter_matrix\n",
        "\n",
        "# visualize some correlations\n",
        "features = ['imdbRating', 'nrOfWins', 'ratingCount', 'year']\n",
        "scatter_matrix(imdb_train[features], figsize=(12, 8), hist_kwds={'bins': 30})\n",
        "plt.plot()"
      ],
      "execution_count": 80,
      "outputs": [
        {
          "output_type": "execute_result",
          "data": {
            "text/plain": [
              "[]"
            ]
          },
          "metadata": {
            "tags": []
          },
          "execution_count": 80
        },
        {
          "output_type": "display_data",
          "data": {
            "image/png": "[encoded data removed]",
            "text/plain": [
              "<Figure size 864x576 with 16 Axes>"
            ]
          },
          "metadata": {
            "tags": []
          }
        }
      ]
    },
    {
      "cell_type": "code",
      "metadata": {
        "id": "YVwSVQ2w6svG",
        "colab_type": "code",
        "colab": {}
      },
      "source": [
        "# adding feature combinations\n",
        "imdb_train['winsPerNomination'] = imdb_train['nrOfWins'] / (imdb_train['nrOfNominations'] + imdb_train['nrOfWins'])\n",
        "imdb_train['winsPerNomination'].fillna(0, inplace=True)\n",
        "imdb_train['reviewsPerRating'] = imdb_train['nrOfUserReviews'] / imdb_train['ratingCount']\n",
        "imdb_train['reviewsPerRating'].fillna(0, inplace=True)"
      ],
      "execution_count": 0,
      "outputs": []
    },
    {
      "cell_type": "code",
      "metadata": {
        "id": "RtznGeBh7VPl",
        "colab_type": "code",
        "colab": {
          "base_uri": "https://localhost:8080/",
          "height": 284
        },
        "outputId": "c2ecfbde-11c5-4475-bac1-b344738c901d"
      },
      "source": [
        "imdb_train[['winsPerNomination', 'reviewsPerRating']].describe()"
      ],
      "execution_count": 54,
      "outputs": [
        {
          "output_type": "execute_result",
          "data": {
            "text/html": [
              "<div>\n",
              "<style scoped>\n",
              "    .dataframe tbody tr th:only-of-type {\n",
              "        vertical-align: middle;\n",
              "    }\n",
              "\n",
              "    .dataframe tbody tr th {\n",
              "        vertical-align: top;\n",
              "    }\n",
              "\n",
              "    .dataframe thead th {\n",
              "        text-align: right;\n",
              "    }\n",
              "</style>\n",
              "<table border=\"1\" class=\"dataframe\">\n",
              "  <thead>\n",
              "    <tr style=\"text-align: right;\">\n",
              "      <th></th>\n",
              "      <th>winsPerNomination</th>\n",
              "      <th>reviewsPerRating</th>\n",
              "    </tr>\n",
              "  </thead>\n",
              "  <tbody>\n",
              "    <tr>\n",
              "      <th>count</th>\n",
              "      <td>10840.000000</td>\n",
              "      <td>10840.000000</td>\n",
              "    </tr>\n",
              "    <tr>\n",
              "      <th>mean</th>\n",
              "      <td>0.236791</td>\n",
              "      <td>0.012046</td>\n",
              "    </tr>\n",
              "    <tr>\n",
              "      <th>std</th>\n",
              "      <td>0.319207</td>\n",
              "      <td>0.018655</td>\n",
              "    </tr>\n",
              "    <tr>\n",
              "      <th>min</th>\n",
              "      <td>0.000000</td>\n",
              "      <td>0.000000</td>\n",
              "    </tr>\n",
              "    <tr>\n",
              "      <th>25%</th>\n",
              "      <td>0.000000</td>\n",
              "      <td>0.003277</td>\n",
              "    </tr>\n",
              "    <tr>\n",
              "      <th>50%</th>\n",
              "      <td>0.000000</td>\n",
              "      <td>0.006677</td>\n",
              "    </tr>\n",
              "    <tr>\n",
              "      <th>75%</th>\n",
              "      <td>0.441471</td>\n",
              "      <td>0.013700</td>\n",
              "    </tr>\n",
              "    <tr>\n",
              "      <th>max</th>\n",
              "      <td>1.000000</td>\n",
              "      <td>0.333333</td>\n",
              "    </tr>\n",
              "  </tbody>\n",
              "</table>\n",
              "</div>"
            ],
            "text/plain": [
              "       winsPerNomination  reviewsPerRating\n",
              "count       10840.000000      10840.000000\n",
              "mean            0.236791          0.012046\n",
              "std             0.319207          0.018655\n",
              "min             0.000000          0.000000\n",
              "25%             0.000000          0.003277\n",
              "50%             0.000000          0.006677\n",
              "75%             0.441471          0.013700\n",
              "max             1.000000          0.333333"
            ]
          },
          "metadata": {
            "tags": []
          },
          "execution_count": 54
        }
      ]
    },
    {
      "cell_type": "code",
      "metadata": {
        "id": "ejxiMXWa9FF6",
        "colab_type": "code",
        "colab": {
          "base_uri": "https://localhost:8080/",
          "height": 706
        },
        "outputId": "50c6f1e6-24a1-4cba-ac77-071a91d690f5"
      },
      "source": [
        "imdb_train.corr()['imdbRating'].sort_values(ascending=False)"
      ],
      "execution_count": 56,
      "outputs": [
        {
          "output_type": "execute_result",
          "data": {
            "text/plain": [
              "imdbRating           1.000000\n",
              "winsPerNomination    0.206947\n",
              "nrOfWins             0.190119\n",
              "Drama                0.179432\n",
              "ratingCount          0.153482\n",
              "nrOfNominations      0.126994\n",
              "History              0.086707\n",
              "Animation            0.080848\n",
              "nrOfUserReviews      0.078527\n",
              "nrOfPhotos           0.075739\n",
              "nrOfNewsArticles     0.074163\n",
              "Biography            0.071226\n",
              "War                  0.070843\n",
              "Documentary          0.059561\n",
              "FilmNoir             0.045012\n",
              "Mystery              0.032309\n",
              "Crime                0.029292\n",
              "Music                0.028506\n",
              "GameShow             0.012306\n",
              "duration             0.004577\n",
              "Musical              0.003769\n",
              "Romance              0.002889\n",
              "Western              0.001708\n",
              "nrOfGenre           -0.003384\n",
              "Sport               -0.009338\n",
              "Adult               -0.016030\n",
              "Short               -0.016097\n",
              "TalkShow            -0.019421\n",
              "Comedy              -0.023400\n",
              "RealityTV           -0.029699\n",
              "Adventure           -0.049375\n",
              "Family              -0.055734\n",
              "News                -0.056566\n",
              "Fantasy             -0.069869\n",
              "Thriller            -0.072198\n",
              "SciFi               -0.094718\n",
              "Action              -0.098791\n",
              "year                -0.112264\n",
              "reviewsPerRating    -0.131741\n",
              "Horror              -0.193813\n",
              "Name: imdbRating, dtype: float64"
            ]
          },
          "metadata": {
            "tags": []
          },
          "execution_count": 56
        }
      ]
    },
    {
      "cell_type": "code",
      "metadata": {
        "id": "SxzJKanX-eKU",
        "colab_type": "code",
        "colab": {
          "base_uri": "https://localhost:8080/",
          "height": 585
        },
        "outputId": "eaa846a2-c938-49fa-9fad-ae9714060d8f"
      },
      "source": [
        "def plot_binary_hists(feature):    \n",
        "    fig = plt.figure(figsize=(6, 8))\n",
        "\n",
        "    plt.subplot(2, 1, 1)\n",
        "    plt.title(f\"{feature} = 0\")\n",
        "    plt.xlabel('Rating')\n",
        "    plt.xlim(0, 10)\n",
        "    imdb_train[imdb_train[feature]==0]['imdbRating'].hist(bins=30)\n",
        "\n",
        "    plt.subplot(2, 1, 2)\n",
        "    plt.title(f\"{feature} = 1\")\n",
        "    plt.xlabel('Rating')\n",
        "    plt.xlim(0, 10)\n",
        "    imdb_train[imdb_train[feature]==1]['imdbRating'].hist(bins=30)\n",
        "\n",
        "    fig.tight_layout()\n",
        "\n",
        "plot_binary_hists('Drama')\n",
        "plt.show()"
      ],
      "execution_count": 78,
      "outputs": [
        {
          "output_type": "display_data",
          "data": {
            "image/png": "[encoded data removed]",
            "text/plain": [
              "<Figure size 432x576 with 2 Axes>"
            ]
          },
          "metadata": {
            "tags": []
          }
        }
      ]
    },
    {
      "cell_type": "code",
      "metadata": {
        "id": "R2kmY67VAI0B",
        "colab_type": "code",
        "colab": {
          "base_uri": "https://localhost:8080/",
          "height": 585
        },
        "outputId": "6e48448b-dd0c-41e1-90aa-9e0c2ddf8523"
      },
      "source": [
        "plot_binary_hists('Horror')\n",
        "plt.show()"
      ],
      "execution_count": 79,
      "outputs": [
        {
          "output_type": "display_data",
          "data": {
            "image/png": "[encoded data removed]",
            "text/plain": [
              "<Figure size 432x576 with 2 Axes>"
            ]
          },
          "metadata": {
            "tags": []
          }
        }
      ]
    },
    {
      "cell_type": "code",
      "metadata": {
        "id": "sfTs1ikhDJDi",
        "colab_type": "code",
        "colab": {
          "base_uri": "https://localhost:8080/",
          "height": 34
        },
        "outputId": "768b7f70-0f3f-432e-f8bc-226e260d41d9"
      },
      "source": [
        "print(imdb_data['type'].unique())"
      ],
      "execution_count": 89,
      "outputs": [
        {
          "output_type": "stream",
          "text": [
            "['video.movie' 'game' 'video.episode' 'video.tv']\n"
          ],
          "name": "stdout"
        }
      ]
    },
    {
      "cell_type": "code",
      "metadata": {
        "id": "g38eJZaVDFpI",
        "colab_type": "code",
        "colab": {
          "base_uri": "https://localhost:8080/",
          "height": 467
        },
        "outputId": "848c3019-7390-4bbe-ca9b-383ae99cd81c"
      },
      "source": [
        "imdb_data[imdb_data['type']=='video.tv'].head()"
      ],
      "execution_count": 87,
      "outputs": [
        {
          "output_type": "execute_result",
          "data": {
            "text/html": [
              "<div>\n",
              "<style scoped>\n",
              "    .dataframe tbody tr th:only-of-type {\n",
              "        vertical-align: middle;\n",
              "    }\n",
              "\n",
              "    .dataframe tbody tr th {\n",
              "        vertical-align: top;\n",
              "    }\n",
              "\n",
              "    .dataframe thead th {\n",
              "        text-align: right;\n",
              "    }\n",
              "</style>\n",
              "<table border=\"1\" class=\"dataframe\">\n",
              "  <thead>\n",
              "    <tr style=\"text-align: right;\">\n",
              "      <th></th>\n",
              "      <th>fn</th>\n",
              "      <th>tid</th>\n",
              "      <th>title</th>\n",
              "      <th>wordsInTitle</th>\n",
              "      <th>url</th>\n",
              "      <th>imdbRating</th>\n",
              "      <th>ratingCount</th>\n",
              "      <th>duration</th>\n",
              "      <th>year</th>\n",
              "      <th>type</th>\n",
              "      <th>nrOfWins</th>\n",
              "      <th>nrOfNominations</th>\n",
              "      <th>nrOfPhotos</th>\n",
              "      <th>nrOfNewsArticles</th>\n",
              "      <th>nrOfUserReviews</th>\n",
              "      <th>nrOfGenre</th>\n",
              "      <th>Action</th>\n",
              "      <th>Adult</th>\n",
              "      <th>Adventure</th>\n",
              "      <th>Animation</th>\n",
              "      <th>Biography</th>\n",
              "      <th>Comedy</th>\n",
              "      <th>Crime</th>\n",
              "      <th>Documentary</th>\n",
              "      <th>Drama</th>\n",
              "      <th>Family</th>\n",
              "      <th>Fantasy</th>\n",
              "      <th>FilmNoir</th>\n",
              "      <th>GameShow</th>\n",
              "      <th>History</th>\n",
              "      <th>Horror</th>\n",
              "      <th>Music</th>\n",
              "      <th>Musical</th>\n",
              "      <th>Mystery</th>\n",
              "      <th>News</th>\n",
              "      <th>RealityTV</th>\n",
              "      <th>Romance</th>\n",
              "      <th>SciFi</th>\n",
              "      <th>Short</th>\n",
              "      <th>Sport</th>\n",
              "      <th>TalkShow</th>\n",
              "      <th>Thriller</th>\n",
              "      <th>War</th>\n",
              "      <th>Western</th>\n",
              "      <th>imdbRating_cat</th>\n",
              "    </tr>\n",
              "  </thead>\n",
              "  <tbody>\n",
              "    <tr>\n",
              "      <th>609</th>\n",
              "      <td>titles02/index.html.194</td>\n",
              "      <td>tt1103965</td>\n",
              "      <td>The 80th Annual Academy Awards (2008)</td>\n",
              "      <td>the th annual academy awards</td>\n",
              "      <td>http://www.imdb.com/title/tt1103965/</td>\n",
              "      <td>6.8</td>\n",
              "      <td>1067.0</td>\n",
              "      <td>11820.0</td>\n",
              "      <td>2008.0</td>\n",
              "      <td>video.tv</td>\n",
              "      <td>1</td>\n",
              "      <td>8</td>\n",
              "      <td>511</td>\n",
              "      <td>6</td>\n",
              "      <td>7</td>\n",
              "      <td>0</td>\n",
              "      <td>0</td>\n",
              "      <td>0</td>\n",
              "      <td>0</td>\n",
              "      <td>0</td>\n",
              "      <td>0</td>\n",
              "      <td>0</td>\n",
              "      <td>0</td>\n",
              "      <td>0</td>\n",
              "      <td>0</td>\n",
              "      <td>0</td>\n",
              "      <td>0</td>\n",
              "      <td>0</td>\n",
              "      <td>0</td>\n",
              "      <td>0</td>\n",
              "      <td>0</td>\n",
              "      <td>0</td>\n",
              "      <td>0</td>\n",
              "      <td>0</td>\n",
              "      <td>0</td>\n",
              "      <td>0</td>\n",
              "      <td>0</td>\n",
              "      <td>0</td>\n",
              "      <td>0</td>\n",
              "      <td>0</td>\n",
              "      <td>0</td>\n",
              "      <td>0</td>\n",
              "      <td>0</td>\n",
              "      <td>0</td>\n",
              "      <td>6</td>\n",
              "    </tr>\n",
              "    <tr>\n",
              "      <th>662</th>\n",
              "      <td>titles02/index.html.2167</td>\n",
              "      <td>tt0051327</td>\n",
              "      <td>Der Kopfgeldjäger (TV Series 1958–1961)</td>\n",
              "      <td>der kopfgeldj ger tv series</td>\n",
              "      <td>http://www.imdb.com/title/tt0051327/</td>\n",
              "      <td>8.2</td>\n",
              "      <td>694.0</td>\n",
              "      <td>1800.0</td>\n",
              "      <td>1961.0</td>\n",
              "      <td>video.tv</td>\n",
              "      <td>0</td>\n",
              "      <td>0</td>\n",
              "      <td>13</td>\n",
              "      <td>13</td>\n",
              "      <td>12</td>\n",
              "      <td>1</td>\n",
              "      <td>0</td>\n",
              "      <td>0</td>\n",
              "      <td>0</td>\n",
              "      <td>0</td>\n",
              "      <td>0</td>\n",
              "      <td>0</td>\n",
              "      <td>0</td>\n",
              "      <td>0</td>\n",
              "      <td>0</td>\n",
              "      <td>0</td>\n",
              "      <td>0</td>\n",
              "      <td>0</td>\n",
              "      <td>0</td>\n",
              "      <td>0</td>\n",
              "      <td>0</td>\n",
              "      <td>0</td>\n",
              "      <td>0</td>\n",
              "      <td>0</td>\n",
              "      <td>0</td>\n",
              "      <td>0</td>\n",
              "      <td>0</td>\n",
              "      <td>0</td>\n",
              "      <td>0</td>\n",
              "      <td>0</td>\n",
              "      <td>0</td>\n",
              "      <td>0</td>\n",
              "      <td>0</td>\n",
              "      <td>1</td>\n",
              "      <td>8</td>\n",
              "    </tr>\n",
              "    <tr>\n",
              "      <th>1288</th>\n",
              "      <td>titles02/index.html.4313</td>\n",
              "      <td>tt0250182</td>\n",
              "      <td>AFI's 100 Years... 100 Laughs: America's Funni...</td>\n",
              "      <td>afi s years laughs america s funniest movies</td>\n",
              "      <td>http://www.imdb.com/title/tt0250182/</td>\n",
              "      <td>6.4</td>\n",
              "      <td>287.0</td>\n",
              "      <td>NaN</td>\n",
              "      <td>2000.0</td>\n",
              "      <td>video.tv</td>\n",
              "      <td>0</td>\n",
              "      <td>0</td>\n",
              "      <td>0</td>\n",
              "      <td>0</td>\n",
              "      <td>2</td>\n",
              "      <td>1</td>\n",
              "      <td>0</td>\n",
              "      <td>0</td>\n",
              "      <td>0</td>\n",
              "      <td>0</td>\n",
              "      <td>0</td>\n",
              "      <td>0</td>\n",
              "      <td>0</td>\n",
              "      <td>1</td>\n",
              "      <td>0</td>\n",
              "      <td>0</td>\n",
              "      <td>0</td>\n",
              "      <td>0</td>\n",
              "      <td>0</td>\n",
              "      <td>0</td>\n",
              "      <td>0</td>\n",
              "      <td>0</td>\n",
              "      <td>0</td>\n",
              "      <td>0</td>\n",
              "      <td>0</td>\n",
              "      <td>0</td>\n",
              "      <td>0</td>\n",
              "      <td>0</td>\n",
              "      <td>0</td>\n",
              "      <td>0</td>\n",
              "      <td>0</td>\n",
              "      <td>0</td>\n",
              "      <td>0</td>\n",
              "      <td>0</td>\n",
              "      <td>6</td>\n",
              "    </tr>\n",
              "    <tr>\n",
              "      <th>1295</th>\n",
              "      <td>titles02/index.html.4347</td>\n",
              "      <td>tt0070644</td>\n",
              "      <td>Szenen einer Ehe (TV Mini-Series 1973)</td>\n",
              "      <td>szenen einer ehe tv mini series</td>\n",
              "      <td>http://www.imdb.com/title/tt0070644/</td>\n",
              "      <td>8.4</td>\n",
              "      <td>9187.0</td>\n",
              "      <td>16980.0</td>\n",
              "      <td>1973.0</td>\n",
              "      <td>video.tv</td>\n",
              "      <td>13</td>\n",
              "      <td>2</td>\n",
              "      <td>15</td>\n",
              "      <td>82</td>\n",
              "      <td>39</td>\n",
              "      <td>1</td>\n",
              "      <td>0</td>\n",
              "      <td>0</td>\n",
              "      <td>0</td>\n",
              "      <td>0</td>\n",
              "      <td>0</td>\n",
              "      <td>0</td>\n",
              "      <td>0</td>\n",
              "      <td>0</td>\n",
              "      <td>1</td>\n",
              "      <td>0</td>\n",
              "      <td>0</td>\n",
              "      <td>0</td>\n",
              "      <td>0</td>\n",
              "      <td>0</td>\n",
              "      <td>0</td>\n",
              "      <td>0</td>\n",
              "      <td>0</td>\n",
              "      <td>0</td>\n",
              "      <td>0</td>\n",
              "      <td>0</td>\n",
              "      <td>0</td>\n",
              "      <td>0</td>\n",
              "      <td>0</td>\n",
              "      <td>0</td>\n",
              "      <td>0</td>\n",
              "      <td>0</td>\n",
              "      <td>0</td>\n",
              "      <td>0</td>\n",
              "      <td>8</td>\n",
              "    </tr>\n",
              "    <tr>\n",
              "      <th>1324</th>\n",
              "      <td>titles02/index.html.4481</td>\n",
              "      <td>tt0043194</td>\n",
              "      <td>Dragnet (TV Series 1951–1959)</td>\n",
              "      <td>dragnet tv series</td>\n",
              "      <td>http://www.imdb.com/title/tt0043194/</td>\n",
              "      <td>7.7</td>\n",
              "      <td>661.0</td>\n",
              "      <td>1800.0</td>\n",
              "      <td>1959.0</td>\n",
              "      <td>video.tv</td>\n",
              "      <td>3</td>\n",
              "      <td>12</td>\n",
              "      <td>23</td>\n",
              "      <td>24</td>\n",
              "      <td>16</td>\n",
              "      <td>3</td>\n",
              "      <td>0</td>\n",
              "      <td>0</td>\n",
              "      <td>0</td>\n",
              "      <td>0</td>\n",
              "      <td>0</td>\n",
              "      <td>0</td>\n",
              "      <td>1</td>\n",
              "      <td>0</td>\n",
              "      <td>1</td>\n",
              "      <td>0</td>\n",
              "      <td>0</td>\n",
              "      <td>0</td>\n",
              "      <td>0</td>\n",
              "      <td>0</td>\n",
              "      <td>0</td>\n",
              "      <td>0</td>\n",
              "      <td>0</td>\n",
              "      <td>1</td>\n",
              "      <td>0</td>\n",
              "      <td>0</td>\n",
              "      <td>0</td>\n",
              "      <td>0</td>\n",
              "      <td>0</td>\n",
              "      <td>0</td>\n",
              "      <td>0</td>\n",
              "      <td>0</td>\n",
              "      <td>0</td>\n",
              "      <td>0</td>\n",
              "      <td>7</td>\n",
              "    </tr>\n",
              "  </tbody>\n",
              "</table>\n",
              "</div>"
            ],
            "text/plain": [
              "                            fn        tid  ... Western imdbRating_cat\n",
              "609    titles02/index.html.194  tt1103965  ...       0              6\n",
              "662   titles02/index.html.2167  tt0051327  ...       1              8\n",
              "1288  titles02/index.html.4313  tt0250182  ...       0              6\n",
              "1295  titles02/index.html.4347  tt0070644  ...       0              8\n",
              "1324  titles02/index.html.4481  tt0043194  ...       0              7\n",
              "\n",
              "[5 rows x 45 columns]"
            ]
          },
          "metadata": {
            "tags": []
          },
          "execution_count": 87
        }
      ]
    },
    {
      "cell_type": "code",
      "metadata": {
        "id": "CCDH6BUsDaXS",
        "colab_type": "code",
        "colab": {}
      },
      "source": [
        "# TODO: do the previous analysis for each type of media separately (duration might be more useful for movies and episodes)"
      ],
      "execution_count": 0,
      "outputs": []
    },
    {
      "cell_type": "markdown",
      "metadata": {
        "id": "B0cEYWk79g2q",
        "colab_type": "text"
      },
      "source": [
        "Notes about the data so far:\n",
        "- There are 4 types of media: movies, TV shows, TV episodes and games\n",
        "- Rating positively correlates with the ratio of wins to total nominations\n",
        "- Rating negatively correlates with the ratio of user reviews to user ratings, people seem to review what they dislike more than what they like\n",
        "- Rating negatively correlates with the year, it seems old movies are rated better than new movies"
      ]
    }
  ]
}